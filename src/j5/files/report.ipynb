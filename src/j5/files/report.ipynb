{
 "cells": [
  {
   "cell_type": "markdown",
   "id": "21159c89-d07a-4667-89f2-beec6b48c4b7",
   "metadata": {
    "deletable": false,
    "editable": false,
    "slideshow": {
     "slide_type": ""
    },
    "tags": []
   },
   "source": [
    "# レポート課題\n",
    "\n",
    "以下の問題について，この `report.ipynb` を編集し，完成した自分が編集した .ipynb ファイルをGoogle Classroomの該当課題に提出してください．（もしこのノートブックをファイルに保存したいときには，メニューの「file」→「Download」で .ipynb ファイルをダウンロード出来るので，それを提出してください．）\n",
    "\n",
    "\n",
    "- 適宜コメントを入れてください．\n",
    "- 提出する際のファイル名は，「`学籍番号.ipynb`」としてください．\n",
    "- 問題1について，Markdownで書きにくい場合には，ClassroomにPDFファイルを追加して提出してもかまいません．\n",
    "- 発展課題は任意とします．\n",
    "- Markdownを書くときには，[Wiki](https://ja.wikipedia.org/wiki/Markdown)にあるぐらいの基本的なマークアップで書いてくれればよいです（もちろん，自分で調べてもっと高度なMarkdownを書いてくれても見られればよいです）．"
   ]
  },
  {
   "cell_type": "markdown",
   "id": "4f3405bc-e145-4f14-aacb-d4396bb0051c",
   "metadata": {
    "deletable": false,
    "editable": false,
    "slideshow": {
     "slide_type": ""
    },
    "tags": []
   },
   "source": [
    "# 問題1 - LALR構文解析についてまとめる（第2回の内容から）\n",
    "\n",
    "Yaccは，***LALR構文解析*** を行う構文解析器を出力するということを第2回で説明しました．\n",
    "\n",
    "LALR構文解析について，以下の用語などを交えて説明してください．\n",
    "（すべてが含まれている必要はないですが，自分でちゃんと理解したうえでまとめること）\n",
    "\n",
    "- 上向き構文解析\n",
    "- スタック\n",
    "- 構文解析表\n",
    "- Shift / Reduce\n",
    "- shift/reduce conflict の例\n",
    "- reduce/reduce conflictの例\n",
    "- 第1回の問題5 （右再帰と左再帰で，どちらがYaccにとって良いか．）\n",
    "\n",
    "ヒント1: 書籍が沢山出ているので，それを参考にしてください．（僕らのときは，）\n",
    "\n",
    "> 『情報科学こんせぷつ8 コンパイラの仕組み』渡邊 坦(著) ISBN：978-4-254-12708-9\n",
    "\n",
    "が教科書に指定されていました．\n",
    "\n",
    "ヒント2: 今回のノートブックが裏で使っているBisonのページは次のとおり，\n",
    "[The Bison Parser Algorithm](https://www.gnu.org/software/bison/manual/html_node/Algorithm.html)"
   ]
  },
  {
   "cell_type": "markdown",
   "id": "0efee62a-5d03-405e-84f9-74a632b00632",
   "metadata": {
    "deletable": false,
    "editable": true,
    "slideshow": {
     "slide_type": ""
    },
    "tags": []
   },
   "source": [
    "LALR構文解析とは、構文解析器がソースコードを解析する際に用いる手法の一つである。\n",
    "\n",
    "## LR構文解析法\n",
    "\n",
    "LALR構文解析は、LR構文解析法と呼ばれる方法を用いている。\n",
    "この方法では、入力文字列を最初から最後に向かって読んでいき、最も右のものから構文規則に当てはめて導出していく。\n",
    "LR構文解析法は、完全に人の手で構築するのが難しい反面複雑な文法に対応しやすいことから、効率良い構文解析器を機械的に生成する際によく利用されている。\n",
    "\n",
    "### 上向き構文解析\n",
    "\n",
    "先述したようにLR構文解析法は入力文字列の最初から開始し、終端記号から徐々に構文規則を当てはめていく。\n",
    "そして、徐々に構文木を構築しながら、最終的に開始記号に到達した際に構文規則が適用できれば解析が完了したことになる。\n",
    "このような手法は上向き構文解析と呼ばれている。\n",
    "\n",
    "## LR構文解析法とスタック\n",
    "\n",
    "LR構文解析法の特徴を自動的に実現するために欠かせないデータ構造がスタックである。\n",
    "スタックを用いると、次のような操作をすることで自然にLR構文解析ができる。\n",
    "\n",
    "- 入力記号をスタックの最上部にプッシュし次の状態へ遷移する。(Shift)\n",
    "- スタックの最上部の項目を取り出し、構文規則を適用し一つの非終端記号へ還元する。(Reduce)\n",
    "\n",
    "入力文字列の最初から開始し終端から構文規則を当てはめていく際にLIFOなデータ構造であるスタックは大変適しているといえる。\n",
    "\n",
    "## 構文解析表\n",
    "\n",
    "上で述べたスタックの操作を具体的に定義したものが構文解析表である。\n",
    "この表は、事前に定めた構文規則を元に生成される。\n",
    "実際に構文解析を行う際、現在の状態と次に入力された記号の2つを用いて表を参照することで、\n",
    "次にShift / Reduceのどちらを行うかや、Reduceする場合に適用する操作を確定させることができる。\n",
    "\n",
    "### LALR構文解析法\n",
    "\n",
    "LALR構文解析法は、LR構文構文解析法をより効率的に行うためのものものである。\n",
    "具体的には、次に入力された記号に加えて先の記号も読むことで、とりうる状態の数を削減し構文解析表を小さくしている。\n",
    "\n",
    "### Shift/Reduce Conflict\n",
    "\n",
    "構文解析表において、現在の状態と入力された記号をもとに次の操作を導出する際、構文規則が曖昧だと次の操作が複数考えられる場合がある。\n",
    "このうち、Shift操作かReduce操作か決定できない状態をShift/Reduce Conflictと呼んでいる。\n",
    "\n",
    "たとえば"
   ]
  },
  {
   "cell_type": "markdown",
   "id": "1f66f377-d7fb-420f-805a-012ac9677c72",
   "metadata": {
    "deletable": false,
    "editable": false,
    "slideshow": {
     "slide_type": ""
    },
    "tags": []
   },
   "source": [
    "# 問題2 - 電卓の拡張（第1回の内容から）\n",
    "\n",
    "第1回で作成した電卓を自由に拡張して，以下にコードを載せてください．\n",
    "どんな機能を追加したかをMarkdownにまとめて書いて，コードには適宜コメントを入れてください．\n",
    "\n",
    "- 授業の練習問題で自分が作成したものを含んでいてもよいです．\n",
    "- Yaccの**演算子順序**について自分で調べて利用してくれてもよいです．\n",
    "- 授業で対応していなかった演算・実数・関数に対応するなど，一般の関数電卓にある機能でもよいですし，自分で考えた新たな機能でもよいです（プログラムになってしまうと，次の問題3になってしまうので，あくまで電卓の範囲で）"
   ]
  },
  {
   "cell_type": "markdown",
   "id": "3aae73e0-66d8-4103-8b99-d1af8ce0a932",
   "metadata": {
    "deletable": false,
    "editable": true,
    "slideshow": {
     "slide_type": ""
    },
    "tags": []
   },
   "source": [
    "どんな機能を追加したのか，ここに書く"
   ]
  },
  {
   "cell_type": "code",
   "execution_count": 5,
   "id": "99b19c47-b60c-457f-8b6a-c0b343167b24",
   "metadata": {
    "deletable": false,
    "editable": true,
    "slideshow": {
     "slide_type": ""
    },
    "tags": []
   },
   "outputs": [
    {
     "name": "stdout",
     "output_type": "stream",
     "text": [
      "[Lex] flex generates lex.yy.c successfully"
     ]
    }
   ],
   "source": [
    "/* lex f2.lex */\n",
    "exp      \"e\"\n",
    "digit [0-9]\n",
    "white [\\t ]\n",
    "%%\n",
    "{digit}+({exp}{digit}+)? { return NUM; } /* 符号つき実数(指数も可能) */\n",
    "[+*-/%^()]       { return yytext[0]; }\n",
    "\"\\n\"      { return '\\n'; }\n",
    "{white}   { ; }"
   ]
  },
  {
   "cell_type": "code",
   "execution_count": 6,
   "id": "90c58c05-2f1c-4325-b8d1-653d894d0777",
   "metadata": {
    "deletable": false,
    "editable": true,
    "slideshow": {
     "slide_type": ""
    },
    "tags": []
   },
   "outputs": [
    {
     "name": "stdout",
     "output_type": "stream",
     "text": [
      "[Yacc] bison generates y.tab.c successfully"
     ]
    }
   ],
   "source": [
    "/* yacc f2.yacc  */\n",
    "%token NUM;\n",
    "%left '+' '-'\n",
    "%left '*' '/' '%'\n",
    "%right '^'\n",
    "%%\n",
    "exprlist:\n",
    "        | exprlist expr '\\n'    { printf(\"%d\\n\", $2); }\n",
    "        ;\n",
    "expr    : expr '+' expr     { $$ = $1 + $3; }\n",
    "        | expr '-' expr     { $$ = $1 - $3; }\n",
    "        | expr '*' expr     { $$ = $1 * $3; }\n",
    "        | expr '/' expr     { $$ = $1 / $3; }\n",
    "        | expr '%' expr     { $$ = $1 % $3; }\n",
    "        | '(' expr ')'      { $$ = $2; }\n",
    "        | NUM               { $$ = atoi(yytext); }\n",
    "        ;\n",
    "%%"
   ]
  },
  {
   "cell_type": "code",
   "execution_count": 7,
   "id": "bfdab3e8-b0a9-49e2-9f8c-e9c849bc3ef6",
   "metadata": {
    "deletable": false,
    "editable": true,
    "slideshow": {
     "slide_type": ""
    },
    "tags": []
   },
   "outputs": [
    {
     "name": "stdout",
     "output_type": "stream",
     "text": [
      "[C] gcc generates a.out successfully"
     ]
    }
   ],
   "source": [
    "/* c f2.c */\n",
    "#include <stdio.h>\n",
    "#include <stdlib.h>\n",
    "extern char *yytext;\n",
    "\n",
    "#include \"y.tab.c\"\n",
    "#include \"lex.yy.c\"\n",
    "\n",
    "int main() {\n",
    "  yyparse();\n",
    "  return 0;\n",
    "}"
   ]
  },
  {
   "cell_type": "code",
   "execution_count": 8,
   "id": "53c4b4ff-8866-41f2-a3ba-f2cdea811507",
   "metadata": {
    "deletable": false,
    "editable": true,
    "slideshow": {
     "slide_type": ""
    },
    "tags": []
   },
   "outputs": [
    {
     "name": "stdout",
     "output_type": "stream",
     "text": [
      "5\n"
     ]
    }
   ],
   "source": [
    "/* a.out */\n",
    "3 + 2 * 4 % 3"
   ]
  },
  {
   "cell_type": "markdown",
   "id": "c44a2e50-dab0-4f8d-8643-1ee9b1bf7dd0",
   "metadata": {
    "deletable": false,
    "editable": false,
    "slideshow": {
     "slide_type": ""
    },
    "tags": []
   },
   "source": [
    "# 問題3 - 自分のプログラミング言語の拡張（第2・3回の内容から）\n",
    "\n",
    "第2・3回で作成したプログラミング言語を自由に拡張して，以下にコードを載せてください．どんな機能を追加したか（複数推奨）をMarkdownでまとめて書いて，コードには適宜コメントを入れてください．\n",
    "\n",
    "- 授業の練習問題で自分が作成したものを含んでもよいです．\n",
    "- インタプリタでもコンパイラでもどちらでもよいです．\n",
    "  - コンパイラの場合，出力先の言語は授業でやったC・x64アセンブリ言語のどちらかにしてください（出力先を変えてみるのは，以下で任意発展課題としています）\n",
    "- たとえば，以下のような拡張が考えられます．（もちろん，これ以外の拡張もどんどん入れてください）\n",
    "  - `if`文\n",
    "  - `for`文\n",
    "  - `switch`文\n",
    "  - サブルーチン（値を返さない）\n",
    "  - 関数（値を返す）\n",
    "    - アセンブリ言語でやるとしたら，ラベルなどを付けてジャンプすることになるはず．どうスタックを使うかなどを考えないといけない．\n",
    "  - 配列（1次元でよい）"
   ]
  },
  {
   "cell_type": "markdown",
   "id": "955b364c-3d6d-4170-88a0-00175014c79c",
   "metadata": {
    "deletable": false,
    "editable": true,
    "slideshow": {
     "slide_type": ""
    },
    "tags": []
   },
   "source": [
    "## ユーティリティ関連\n",
    "\n",
    "### println関数の追加\n",
    "println関数を追加し、末尾改行付きで文字列を出力することができるようにした。\n",
    "ループ内でprintを行う場合はこういう関数があると便利である。\n",
    "\n",
    "### true / falseの追加\n",
    "常に真 / 偽を表すtrue / false句の追加を行った。\n",
    "これと後述するif文・break文を組み合わせることで、条件分岐やforループ相当のwhile文を書くことができる。\n",
    "\n",
    "### 条件分岐関連\n",
    "\n",
    "#### if文の追加\n",
    "if (条件) {処理} の形式で条件分岐を行うif文を追加した。\n",
    "else句については、shift / reduce conflictを解消できなかったため追加を断念した。\n",
    "\n",
    "#### break句の追加\n",
    "break; の形式でC言語のbreak;を出力するようにした。\n",
    "これにより、while文などを明示的に脱出できるようになった。"
   ]
  },
  {
   "cell_type": "code",
   "execution_count": 382,
   "id": "4d7b58f3-1e29-4614-af2c-7279757becf6",
   "metadata": {
    "deletable": false,
    "editable": true,
    "slideshow": {
     "slide_type": ""
    },
    "tags": []
   },
   "outputs": [
    {
     "name": "stdout",
     "output_type": "stream",
     "text": [
      "[Lex] flex generates lex.yy.c successfully"
     ]
    }
   ],
   "source": [
    "/* lex f3.lex */\n",
    "alpha   [a-zA-Z]\n",
    "digit   [0-9]\n",
    "white   [\\n\\t ]\n",
    "%%\n",
    "read                        { return READ; }\n",
    "print                       { return PRINT; }\n",
    "println                     { return PRINTLN; }\n",
    "while                       { return WHILE; }\n",
    "if                          { return IF; }\n",
    "break                       { return BREAK; }\n",
    "true                        { return TRUE; }\n",
    "false                       { return FALSE; }\n",
    "\"++\"                        { return PLUSPLUS; }\n",
    "\"<=\"                        { return LTE; }\n",
    "\">=\"                        { return GTE; }\n",
    "\"==\"                        { return EQ; }\n",
    "\"&&\"                        { return AND; }\n",
    "\"||\"                        { return OR; }\n",
    "{alpha}({alpha}|{digit})*   { return IDENT; }\n",
    "{digit}+                    { return NUM; }\n",
    "[+\\-*/%=!();{}<>]               { return yytext[0]; }\n",
    "{white}"
   ]
  },
  {
   "cell_type": "code",
   "execution_count": 383,
   "id": "d09338c0-e6d7-43c8-874d-b77d8917b089",
   "metadata": {
    "deletable": false,
    "editable": true,
    "slideshow": {
     "slide_type": ""
    },
    "tags": []
   },
   "outputs": [
    {
     "name": "stdout",
     "output_type": "stream",
     "text": [
      "[Yacc] bison generates y.tab.c successfully"
     ]
    }
   ],
   "source": [
    "/* yacc f3.yacc --debug */\n",
    "%union {\n",
    "  Node* np;\n",
    "  int i;\n",
    "}\n",
    "%type <np> stlist stat expr prim var cond\n",
    "%token NUM IDENT READ PRINT PRINTLN WHILE IF BREAK\n",
    "%token PLUSPLUS LTE GTE EQ AND OR TRUE FALSE\n",
    "\n",
    "\n",
    "%left OR\n",
    "%left AND\n",
    "%left '<' '>' LTE GTE EQ\n",
    "%right '!'\n",
    "%%\n",
    "prog   : IDENT '{' stlist '}'       { emit_c($3); return 0; }\n",
    "       ;\n",
    "stlist :                            { $$ = NULL; }\n",
    "       | stlist stat                { $$ = createNode(T_STLIST, $1, $2); }\n",
    "       ;\n",
    "stat   : var '=' expr ';'           { $$ = createNode(T_ASSIGN, $1, $3); }\n",
    "       | READ var ';'               { $$ = createNode(T_READ, $2, NULL); }\n",
    "       | PRINT expr ';'             { $$ = createNode(T_PRINT, $2, NULL); }\n",
    "       | PRINTLN expr ';'           { $$ = createNode(T_PRINTLN, $2, NULL); }\n",
    "       | IF '(' cond ')' stat       { $$ = createNode(T_IF, $3, $5); }\n",
    "       | WHILE '(' cond ')' stat    { $$ = createNode(T_WHILE, $3, $5); }\n",
    "       | BREAK ';'                  { $$ = createNode(T_BREAK, NULL, NULL); }\n",
    "       | '{' stlist '}'             { $$ = createNode(T_BLOCK, $2, NULL); }\n",
    "       ;\n",
    "expr   : prim                       { $$ = $1; }\n",
    "       | expr '+' prim              { $$ = createNode(T_ADD, $1, $3); }\n",
    "       | expr '-' prim              { $$ = createNode(T_SUB, $1, $3); }\n",
    "       | expr '*' prim              { $$ = createNode(T_MUL, $1, $3); }\n",
    "       | expr '/' prim              { $$ = createNode(T_DIV, $1, $3); }\n",
    "       | expr '%' prim              { $$ = createNode(T_MOD, $1, $3); }\n",
    "       ;\n",
    "prim   : NUM                        { $$ = createNode(T_NUM, atoi(yytext), NULL); }\n",
    "       | var                        { $$ = createNode(T_VAR, $1, NULL); }\n",
    "       | '(' expr ')'               { $$ = $2; }\n",
    "       | var PLUSPLUS               { $$ = createNode(T_PP, $1, NULL); }\n",
    "       ;\n",
    "var    : IDENT                      { $$ = lookup(yytext); }\n",
    "       ;\n",
    "cond   : expr '<' expr     { $$ = createNode(T_LT, $1, $3); }\n",
    "       | expr '>' expr     { $$ = createNode(T_GT, $1, $3); }\n",
    "       | expr GTE expr     { $$ = createNode(T_GTE, $1, $3); }\n",
    "       | expr LTE expr     { $$ = createNode(T_LTE, $1, $3); }\n",
    "       | expr EQ expr      { $$ = createNode(T_EQ, $1, $3); }\n",
    "       | cond AND cond     { $$ = createNode(T_AND, $1, $3); }\n",
    "       | cond OR cond      { $$ = createNode(T_OR, $1, $3); }\n",
    "       | '!' '(' cond ')'  { $$ = createNode(T_NOT, $3, NULL); }\n",
    "       | TRUE             { $$ = createNode(T_TRUE, NULL, NULL); }\n",
    "       | FALSE            { $$ = createNode(T_FALSE, NULL, NULL); }\n",
    "       ;\n"
   ]
  },
  {
   "cell_type": "code",
   "execution_count": 384,
   "id": "3ffac5b7-c670-4af9-9171-12a0eed8fd00",
   "metadata": {
    "deletable": false,
    "editable": true,
    "slideshow": {
     "slide_type": ""
    },
    "tags": []
   },
   "outputs": [
    {
     "name": "stdout",
     "output_type": "stream",
     "text": [
      "[C] gcc generates a.out successfully"
     ]
    }
   ],
   "source": [
    "/* c f3.c */\n",
    "#include <stdio.h>\n",
    "struct stab {\n",
    "  int val;\n",
    "  char name[20];\n",
    "} stab[100];\n",
    "int stabuse = 0;\n",
    "\n",
    "extern char *yytext;\n",
    "\n",
    "#define T_STLIST 1\n",
    "#define T_ASSIGN 2\n",
    "#define T_READ   3\n",
    "#define T_PRINT  4\n",
    "#define T_ADD    5\n",
    "#define T_SUB    6\n",
    "#define T_NUM    7\n",
    "#define T_VAR    8\n",
    "#define T_WHILE  9\n",
    "#define T_LT     10\n",
    "#define T_GT     11\n",
    "#define T_LTE    12\n",
    "#define T_GTE    13\n",
    "#define T_EQ     14\n",
    "#define T_NOT    15\n",
    "#define T_AND    16\n",
    "#define T_OR     17\n",
    "#define T_PP     18\n",
    "#define T_BLOCK  19\n",
    "#define T_IF    20\n",
    "#define T_BREAK 21\n",
    "#define T_TRUE  22\n",
    "#define T_FALSE 23\n",
    "#define T_MUL   24\n",
    "#define T_DIV   25\n",
    "#define T_MOD   26\n",
    "#define T_PRINTLN 27\n",
    "\n",
    "typedef struct Node {\n",
    "    int node_type;\n",
    "    struct Node* left;\n",
    "    struct Node* right;\n",
    "} Node;\n",
    "\n",
    "\n",
    "// 引数にとる文字列が表にあれば見つかった位置を返して，なければ追加する関数\n",
    "int lookup(char *s) {\n",
    "  int i;\n",
    "  // 表の使っているところを順に見ていって\n",
    "  for (i = 0; i < stabuse; ++i) {\n",
    "    if (strcmp(stab[i].name, s) == 0) {\n",
    "      // 見つかった場合はその位置を返す\n",
    "      return i;\n",
    "    }\n",
    "  }\n",
    "  if (stabuse >= 99) {\n",
    "    // 変数の上限の個数を超えてしまった\n",
    "    printf(\"table overflow,\\n\");\n",
    "    exit(1);\n",
    "  }\n",
    "\n",
    "  // 表になかったので追加する\n",
    "  strcpy(stab[stabuse].name, s);\n",
    "  return stabuse++;  // 追加した位置を返す\n",
    "}\n",
    "\n",
    "// 新しいノードを作る関数\n",
    "Node* createNode(int node_type, Node* left, Node* right) {\n",
    "    Node* newNode = (Node*)malloc(sizeof(Node));\n",
    "    newNode->node_type = node_type;\n",
    "    newNode->left = left;\n",
    "    newNode->right = right;\n",
    "    return newNode;\n",
    "}\n",
    "\n",
    "void _emit_c(Node* node) {\n",
    "  if (node == NULL) {\n",
    "    return;\n",
    "  }\n",
    "  switch (node->node_type) {\n",
    "    case T_STLIST:\n",
    "      if (node->left != NULL) { _emit_c(node->left); }\n",
    "      _emit_c(node->right);\n",
    "      break;\n",
    "    case T_ASSIGN:\n",
    "      printf(\"\\tv%d = \", node->left);\n",
    "      _emit_c(node->right);\n",
    "      printf(\";\\n\");\n",
    "      break;\n",
    "    case T_READ:\n",
    "      printf(\"\\tscanf(\\\"%%d\\\", &v%d);\\n\", node->left);\n",
    "      break;\n",
    "    case T_PRINT:\n",
    "      printf(\"\\tprintf(\\\"%%d\\\",\");\n",
    "      _emit_c(node->left);\n",
    "      printf(\");\\n\");\n",
    "      break;\n",
    "    case T_PRINTLN:\n",
    "      printf(\"\\tprintf(\\\"%%d\\\",\");\n",
    "      _emit_c(node->left);\n",
    "      printf(\");\\n\");\n",
    "      printf(\"\\tprintf(\\\"\\\\n\\\");\");\n",
    "      printf(\"\\n\");\n",
    "      break;\n",
    "    case T_ADD:\n",
    "      _emit_c(node->left);\n",
    "      printf(\" + \");\n",
    "      _emit_c(node->right);\n",
    "      break;\n",
    "    case T_SUB:\n",
    "      _emit_c(node->left);\n",
    "      printf(\" - \");\n",
    "      _emit_c(node->right);\n",
    "      break;\n",
    "    case T_NUM:\n",
    "      printf(\"%d\", node->left);\n",
    "      break;\n",
    "    case T_VAR:\n",
    "      printf(\"v%d\", node->left);\n",
    "      break;\n",
    "    case T_WHILE:\n",
    "      printf(\"\\twhile (\");\n",
    "      _emit_c(node->left);\n",
    "      printf(\") {\\n\\t\");\n",
    "      _emit_c(node->right);\n",
    "      printf(\"\\t}\\n\");\n",
    "      break;\n",
    "    case T_LT:\n",
    "      _emit_c(node->left);\n",
    "      printf(\" < \");\n",
    "      _emit_c(node->right);\n",
    "      break;\n",
    "    case T_GT:\n",
    "      _emit_c(node->left);\n",
    "      printf(\" > \");\n",
    "      _emit_c(node->right);\n",
    "      break;\n",
    "    case T_LTE:\n",
    "      _emit_c(node->left);\n",
    "      printf(\" <= \");\n",
    "      _emit_c(node->right);\n",
    "      break;\n",
    "    case T_GTE:\n",
    "      _emit_c(node->left);\n",
    "      printf(\" >= \");\n",
    "      _emit_c(node->right);\n",
    "      break;\n",
    "    case T_EQ:\n",
    "      _emit_c(node->left);\n",
    "      printf(\" == \");\n",
    "      _emit_c(node->right);\n",
    "      break;\n",
    "    case T_NOT:\n",
    "      printf(\"!\");\n",
    "      _emit_c(node->left);\n",
    "      break;\n",
    "    case T_AND:\n",
    "      _emit_c(node->left);\n",
    "      printf(\" && \");\n",
    "      _emit_c(node->right);\n",
    "      break;\n",
    "    case T_OR:\n",
    "      _emit_c(node->left);\n",
    "      printf(\" || \");\n",
    "      _emit_c(node->right);\n",
    "      break;\n",
    "    case T_PP:\n",
    "      printf(\"v%d++\", node->left);\n",
    "      break;\n",
    "    case T_BLOCK:\n",
    "      _emit_c(node->left);\n",
    "      break;\n",
    "    case T_IF:\n",
    "      printf(\"\\tif (\");\n",
    "      _emit_c(node->left); /* 条件式 */\n",
    "      printf(\") {\\n\\t\");\n",
    "      _emit_c(node->right); /* 文 */\n",
    "      printf(\"\\t}\\n\");\n",
    "      break;\n",
    "    case T_BREAK:\n",
    "      printf(\"\\tbreak;\\n\");\n",
    "      break;\n",
    "    case T_TRUE:\n",
    "      printf(\"1\");\n",
    "      break;\n",
    "    case T_FALSE:\n",
    "      printf(\"0\");\n",
    "      break;\n",
    "    case T_MUL:\n",
    "      _emit_c(node->left);\n",
    "      printf(\" * \");\n",
    "      _emit_c(node->right);\n",
    "      break;\n",
    "    case T_DIV:\n",
    "      _emit_c(node->left);\n",
    "      printf(\" / \");\n",
    "      _emit_c(node->right);\n",
    "      break;\n",
    "    case T_MOD:\n",
    "      _emit_c(node->left);\n",
    "      printf(\" %% \");\n",
    "      _emit_c(node->right);\n",
    "      break;\n",
    "  }\n",
    "}\n",
    "\n",
    "void emit_c(Node* node) {\n",
    "  printf(\"#include <stdio.h>\\n\");\n",
    "  printf(\"int main() {\\n\");\n",
    "  int i;\n",
    "  for (i = 0; i < stabuse; i++) {\n",
    "    printf(\"\\tint v%d;\\n\", i);\n",
    "  }\n",
    "  _emit_c(node);\n",
    "  printf(\"}\\n\");\n",
    "}\n",
    "\n",
    "#include \"y.tab.c\"\n",
    "#include \"lex.yy.c\"\n",
    "\n",
    "int main() {\n",
    "  yydebug = 1;\n",
    "  yyparse();\n",
    "  return 0;\n",
    "}"
   ]
  },
  {
   "cell_type": "code",
   "execution_count": 386,
   "id": "b09cb3e2-07bd-4906-953f-e70e3c436443",
   "metadata": {
    "deletable": false,
    "editable": true,
    "slideshow": {
     "slide_type": ""
    },
    "tags": []
   },
   "outputs": [
    {
     "name": "stdout",
     "output_type": "stream",
     "text": [
      "Starting parse\n",
      "Entering state 0\n",
      "Stack now 0\n",
      "Reading a token\n",
      "Next token is token IDENT ()\n",
      "Shifting token IDENT ()\n",
      "Entering state 1\n",
      "Stack now 0 1\n",
      "Reading a token\n",
      "Next token is token '{' ()\n",
      "Shifting token '{' ()\n",
      "Entering state 3\n",
      "Stack now 0 1 3\n",
      "Reducing stack by rule 2 (line 17):\n",
      "-> $$ = nterm stlist ()\n",
      "Entering state 5\n",
      "Stack now 0 1 3 5\n",
      "Reading a token\n",
      "Next token is token READ ()\n",
      "Shifting token READ ()\n",
      "Entering state 7\n",
      "Stack now 0 1 3 5 7\n",
      "Reading a token\n",
      "Next token is token IDENT ()\n",
      "Shifting token IDENT ()\n",
      "Entering state 6\n",
      "Stack now 0 1 3 5 7 6\n",
      "Reducing stack by rule 22 (line 41):\n",
      "   $1 = token IDENT ()\n",
      "-> $$ = nterm var ()\n",
      "Entering state 17\n",
      "Stack now 0 1 3 5 7 17\n",
      "Reading a token\n",
      "Next token is token ';' ()\n",
      "Shifting token ';' ()\n",
      "Entering state 29\n",
      "Stack now 0 1 3 5 7 17 29\n",
      "Reducing stack by rule 5 (line 21):\n",
      "   $1 = token READ ()\n",
      "   $2 = nterm var ()\n",
      "   $3 = token ';' ()\n",
      "-> $$ = nterm stat ()\n",
      "Entering state 15\n",
      "Stack now 0 1 3 5 15\n",
      "Reducing stack by rule 3 (line 18):\n",
      "   $1 = nterm stlist ()\n",
      "   $2 = nterm stat ()\n",
      "-> $$ = nterm stlist ()\n",
      "Entering state 5\n",
      "Stack now 0 1 3 5\n",
      "Reading a token\n",
      "Next token is token WHILE ()\n",
      "Shifting token WHILE ()\n",
      "Entering state 10\n",
      "Stack now 0 1 3 5 10\n",
      "Reading a token\n",
      "Next token is token '(' ()\n",
      "Shifting token '(' ()\n",
      "Entering state 24\n",
      "Stack now 0 1 3 5 10 24\n",
      "Reading a token\n",
      "Next token is token TRUE ()\n",
      "Shifting token TRUE ()\n",
      "Entering state 39\n",
      "Stack now 0 1 3 5 10 24 39\n",
      "Reducing stack by rule 31 (line 51):\n",
      "   $1 = token TRUE ()\n",
      "-> $$ = nterm cond ()\n",
      "Entering state 43\n",
      "Stack now 0 1 3 5 10 24 43\n",
      "Reading a token\n",
      "Next token is token ')' ()\n",
      "Shifting token ')' ()\n",
      "Entering state 61\n",
      "Stack now 0 1 3 5 10 24 43 61\n",
      "Reading a token\n",
      "Next token is token '{' ()\n",
      "Shifting token '{' ()\n",
      "Entering state 13\n",
      "Stack now 0 1 3 5 10 24 43 61 13\n",
      "Reducing stack by rule 2 (line 17):\n",
      "-> $$ = nterm stlist ()\n",
      "Entering state 27\n",
      "Stack now 0 1 3 5 10 24 43 61 13 27\n",
      "Reading a token\n",
      "Next token is token IF ()\n",
      "Shifting token IF ()\n",
      "Entering state 11\n",
      "Stack now 0 1 3 5 10 24 43 61 13 27 11\n",
      "Reading a token\n",
      "Next token is token '(' ()\n",
      "Shifting token '(' ()\n",
      "Entering state 25\n",
      "Stack now 0 1 3 5 10 24 43 61 13 27 11 25\n",
      "Reading a token\n",
      "Next token is token IDENT ()\n",
      "Shifting token IDENT ()\n",
      "Entering state 6\n",
      "Stack now 0 1 3 5 10 24 43 61 13 27 11 25 6\n",
      "Reducing stack by rule 22 (line 41):\n",
      "   $1 = token IDENT ()\n",
      "-> $$ = nterm var ()\n",
      "Entering state 22\n",
      "Stack now 0 1 3 5 10 24 43 61 13 27 11 25 22\n",
      "Reading a token\n",
      "Next token is token GTE ()\n",
      "Reducing stack by rule 19 (line 37):\n",
      "   $1 = nterm var ()\n",
      "-> $$ = nterm prim ()\n",
      "Entering state 21\n",
      "Stack now 0 1 3 5 10 24 43 61 13 27 11 25 21\n",
      "Reducing stack by rule 12 (line 29):\n",
      "   $1 = nterm prim ()\n",
      "-> $$ = nterm expr ()\n",
      "Entering state 42\n",
      "Stack now 0 1 3 5 10 24 43 61 13 27 11 25 42\n",
      "Next token is token GTE ()\n",
      "Shifting token GTE ()\n",
      "Entering state 55\n",
      "Stack now 0 1 3 5 10 24 43 61 13 27 11 25 42 55\n",
      "Reading a token\n",
      "Next token is token NUM ()\n",
      "Shifting token NUM ()\n",
      "Entering state 18\n",
      "Stack now 0 1 3 5 10 24 43 61 13 27 11 25 42 55 18\n",
      "Reducing stack by rule 18 (line 36):\n",
      "   $1 = token NUM ()\n",
      "-> $$ = nterm prim ()\n",
      "Entering state 21\n",
      "Stack now 0 1 3 5 10 24 43 61 13 27 11 25 42 55 21\n",
      "Reducing stack by rule 12 (line 29):\n",
      "   $1 = nterm prim ()\n",
      "-> $$ = nterm expr ()\n",
      "Entering state 66\n",
      "Stack now 0 1 3 5 10 24 43 61 13 27 11 25 42 55 66\n",
      "Reading a token\n",
      "Next token is token ')' ()\n",
      "Reducing stack by rule 25 (line 45):\n",
      "   $1 = nterm expr ()\n",
      "   $2 = token GTE ()\n",
      "   $3 = nterm expr ()\n",
      "-> $$ = nterm cond ()\n",
      "Entering state 44\n",
      "Stack now 0 1 3 5 10 24 43 61 13 27 11 25 44\n",
      "Next token is token ')' ()\n",
      "Shifting token ')' ()\n",
      "Entering state 62\n",
      "Stack now 0 1 3 5 10 24 43 61 13 27 11 25 44 62\n",
      "Reading a token\n",
      "Next token is token '{' ()\n",
      "Shifting token '{' ()\n",
      "Entering state 13\n",
      "Stack now 0 1 3 5 10 24 43 61 13 27 11 25 44 62 13\n",
      "Reducing stack by rule 2 (line 17):\n",
      "-> $$ = nterm stlist ()\n",
      "Entering state 27\n",
      "Stack now 0 1 3 5 10 24 43 61 13 27 11 25 44 62 13 27\n",
      "Reading a token\n",
      "Next token is token BREAK ()\n",
      "Shifting token BREAK ()\n",
      "Entering state 12\n",
      "Stack now 0 1 3 5 10 24 43 61 13 27 11 25 44 62 13 27 12\n",
      "Reading a token\n",
      "Next token is token ';' ()\n",
      "Shifting token ';' ()\n",
      "Entering state 26\n",
      "Stack now 0 1 3 5 10 24 43 61 13 27 11 25 44 62 13 27 12 26\n",
      "Reducing stack by rule 10 (line 26):\n",
      "   $1 = token BREAK ()\n",
      "   $2 = token ';' ()\n",
      "-> $$ = nterm stat ()\n",
      "Entering state 15\n",
      "Stack now 0 1 3 5 10 24 43 61 13 27 11 25 44 62 13 27 15\n",
      "Reducing stack by rule 3 (line 18):\n",
      "   $1 = nterm stlist ()\n",
      "   $2 = nterm stat ()\n",
      "-> $$ = nterm stlist ()\n",
      "Entering state 27\n",
      "Stack now 0 1 3 5 10 24 43 61 13 27 11 25 44 62 13 27\n",
      "Reading a token\n",
      "Next token is token '}' ()\n",
      "Shifting token '}' ()\n",
      "Entering state 45\n",
      "Stack now 0 1 3 5 10 24 43 61 13 27 11 25 44 62 13 27 45\n",
      "Reducing stack by rule 11 (line 27):\n",
      "   $1 = token '{' ()\n",
      "   $2 = nterm stlist ()\n",
      "   $3 = token '}' ()\n",
      "-> $$ = nterm stat ()\n",
      "Entering state 73\n",
      "Stack now 0 1 3 5 10 24 43 61 13 27 11 25 44 62 73\n",
      "Reducing stack by rule 8 (line 24):\n",
      "   $1 = token IF ()\n",
      "   $2 = token '(' ()\n",
      "   $3 = nterm cond ()\n",
      "   $4 = token ')' ()\n",
      "   $5 = nterm stat ()\n",
      "-> $$ = nterm stat ()\n",
      "Entering state 15\n",
      "Stack now 0 1 3 5 10 24 43 61 13 27 15\n",
      "Reducing stack by rule 3 (line 18):\n",
      "   $1 = nterm stlist ()\n",
      "   $2 = nterm stat ()\n",
      "-> $$ = nterm stlist ()\n",
      "Entering state 27\n",
      "Stack now 0 1 3 5 10 24 43 61 13 27\n",
      "Reading a token\n",
      "Next token is token READ ()\n",
      "Shifting token READ ()\n",
      "Entering state 7\n",
      "Stack now 0 1 3 5 10 24 43 61 13 27 7\n",
      "Reading a token\n",
      "Next token is token IDENT ()\n",
      "Shifting token IDENT ()\n",
      "Entering state 6\n",
      "Stack now 0 1 3 5 10 24 43 61 13 27 7 6\n",
      "Reducing stack by rule 22 (line 41):\n",
      "   $1 = token IDENT ()\n",
      "-> $$ = nterm var ()\n",
      "Entering state 17\n",
      "Stack now 0 1 3 5 10 24 43 61 13 27 7 17\n",
      "Reading a token\n",
      "Next token is token ';' ()\n",
      "Shifting token ';' ()\n",
      "Entering state 29\n",
      "Stack now 0 1 3 5 10 24 43 61 13 27 7 17 29\n",
      "Reducing stack by rule 5 (line 21):\n",
      "   $1 = token READ ()\n",
      "   $2 = nterm var ()\n",
      "   $3 = token ';' ()\n",
      "-> $$ = nterm stat ()\n",
      "Entering state 15\n",
      "Stack now 0 1 3 5 10 24 43 61 13 27 15\n",
      "Reducing stack by rule 3 (line 18):\n",
      "   $1 = nterm stlist ()\n",
      "   $2 = nterm stat ()\n",
      "-> $$ = nterm stlist ()\n",
      "Entering state 27\n",
      "Stack now 0 1 3 5 10 24 43 61 13 27\n",
      "Reading a token\n",
      "Next token is token IDENT ()\n",
      "Shifting token IDENT ()\n",
      "Entering state 6\n",
      "Stack now 0 1 3 5 10 24 43 61 13 27 6\n",
      "Reducing stack by rule 22 (line 41):\n",
      "   $1 = token IDENT ()\n",
      "-> $$ = nterm var ()\n",
      "Entering state 16\n",
      "Stack now 0 1 3 5 10 24 43 61 13 27 16\n",
      "Reading a token\n",
      "Next token is token '=' ()\n",
      "Shifting token '=' ()\n",
      "Entering state 28\n",
      "Stack now 0 1 3 5 10 24 43 61 13 27 16 28\n",
      "Reading a token\n",
      "Next token is token IDENT ()\n",
      "Shifting token IDENT ()\n",
      "Entering state 6\n",
      "Stack now 0 1 3 5 10 24 43 61 13 27 16 28 6\n",
      "Reducing stack by rule 22 (line 41):\n",
      "   $1 = token IDENT ()\n",
      "-> $$ = nterm var ()\n",
      "Entering state 22\n",
      "Stack now 0 1 3 5 10 24 43 61 13 27 16 28 22\n",
      "Reading a token\n",
      "Next token is token '+' ()\n",
      "Reducing stack by rule 19 (line 37):\n",
      "   $1 = nterm var ()\n",
      "-> $$ = nterm prim ()\n",
      "Entering state 21\n",
      "Stack now 0 1 3 5 10 24 43 61 13 27 16 28 21\n",
      "Reducing stack by rule 12 (line 29):\n",
      "   $1 = nterm prim ()\n",
      "-> $$ = nterm expr ()\n",
      "Entering state 46\n",
      "Stack now 0 1 3 5 10 24 43 61 13 27 16 28 46\n",
      "Next token is token '+' ()\n",
      "Shifting token '+' ()\n",
      "Entering state 32\n",
      "Stack now 0 1 3 5 10 24 43 61 13 27 16 28 46 32\n",
      "Reading a token\n",
      "Next token is token IDENT ()\n",
      "Shifting token IDENT ()\n",
      "Entering state 6\n",
      "Stack now 0 1 3 5 10 24 43 61 13 27 16 28 46 32 6\n",
      "Reducing stack by rule 22 (line 41):\n",
      "   $1 = token IDENT ()\n",
      "-> $$ = nterm var ()\n",
      "Entering state 22\n",
      "Stack now 0 1 3 5 10 24 43 61 13 27 16 28 46 32 22\n",
      "Reading a token\n",
      "Next token is token ';' ()\n",
      "Reducing stack by rule 19 (line 37):\n",
      "   $1 = nterm var ()\n",
      "-> $$ = nterm prim ()\n",
      "Entering state 48\n",
      "Stack now 0 1 3 5 10 24 43 61 13 27 16 28 46 32 48\n",
      "Reducing stack by rule 13 (line 30):\n",
      "   $1 = nterm expr ()\n",
      "   $2 = token '+' ()\n",
      "   $3 = nterm prim ()\n",
      "-> $$ = nterm expr ()\n",
      "Entering state 46\n",
      "Stack now 0 1 3 5 10 24 43 61 13 27 16 28 46\n",
      "Next token is token ';' ()\n",
      "Shifting token ';' ()\n",
      "Entering state 63\n",
      "Stack now 0 1 3 5 10 24 43 61 13 27 16 28 46 63\n",
      "Reducing stack by rule 4 (line 20):\n",
      "   $1 = nterm var ()\n",
      "   $2 = token '=' ()\n",
      "   $3 = nterm expr ()\n",
      "   $4 = token ';' ()\n",
      "-> $$ = nterm stat ()\n",
      "Entering state 15\n",
      "Stack now 0 1 3 5 10 24 43 61 13 27 15\n",
      "Reducing stack by rule 3 (line 18):\n",
      "   $1 = nterm stlist ()\n",
      "   $2 = nterm stat ()\n",
      "-> $$ = nterm stlist ()\n",
      "Entering state 27\n",
      "Stack now 0 1 3 5 10 24 43 61 13 27\n",
      "Reading a token\n",
      "Next token is token PRINTLN ()\n",
      "Shifting token PRINTLN ()\n",
      "Entering state 9\n",
      "Stack now 0 1 3 5 10 24 43 61 13 27 9\n",
      "Reading a token\n",
      "Next token is token IDENT ()\n",
      "Shifting token IDENT ()\n",
      "Entering state 6\n",
      "Stack now 0 1 3 5 10 24 43 61 13 27 9 6\n",
      "Reducing stack by rule 22 (line 41):\n",
      "   $1 = token IDENT ()\n",
      "-> $$ = nterm var ()\n",
      "Entering state 22\n",
      "Stack now 0 1 3 5 10 24 43 61 13 27 9 22\n",
      "Reading a token\n",
      "Next token is token ';' ()\n",
      "Reducing stack by rule 19 (line 37):\n",
      "   $1 = nterm var ()\n",
      "-> $$ = nterm prim ()\n",
      "Entering state 21\n",
      "Stack now 0 1 3 5 10 24 43 61 13 27 9 21\n",
      "Reducing stack by rule 12 (line 29):\n",
      "   $1 = nterm prim ()\n",
      "-> $$ = nterm expr ()\n",
      "Entering state 23\n",
      "Stack now 0 1 3 5 10 24 43 61 13 27 9 23\n",
      "Next token is token ';' ()\n",
      "Shifting token ';' ()\n",
      "Entering state 38\n",
      "Stack now 0 1 3 5 10 24 43 61 13 27 9 23 38\n",
      "Reducing stack by rule 7 (line 23):\n",
      "   $1 = token PRINTLN ()\n",
      "   $2 = nterm expr ()\n",
      "   $3 = token ';' ()\n",
      "-> $$ = nterm stat ()\n",
      "Entering state 15\n",
      "Stack now 0 1 3 5 10 24 43 61 13 27 15\n",
      "Reducing stack by rule 3 (line 18):\n",
      "   $1 = nterm stlist ()\n",
      "   $2 = nterm stat ()\n",
      "-> $$ = nterm stlist ()\n",
      "Entering state 27\n",
      "Stack now 0 1 3 5 10 24 43 61 13 27\n",
      "Reading a token\n",
      "Next token is token '}' ()\n",
      "Shifting token '}' ()\n",
      "Entering state 45\n",
      "Stack now 0 1 3 5 10 24 43 61 13 27 45\n",
      "Reducing stack by rule 11 (line 27):\n",
      "   $1 = token '{' ()\n",
      "   $2 = nterm stlist ()\n",
      "   $3 = token '}' ()\n",
      "-> $$ = nterm stat ()\n",
      "Entering state 72\n",
      "Stack now 0 1 3 5 10 24 43 61 72\n",
      "Reducing stack by rule 9 (line 25):\n",
      "   $1 = token WHILE ()\n",
      "   $2 = token '(' ()\n",
      "   $3 = nterm cond ()\n",
      "   $4 = token ')' ()\n",
      "   $5 = nterm stat ()\n",
      "-> $$ = nterm stat ()\n",
      "Entering state 15\n",
      "Stack now 0 1 3 5 15\n",
      "Reducing stack by rule 3 (line 18):\n",
      "   $1 = nterm stlist ()\n",
      "   $2 = nterm stat ()\n",
      "-> $$ = nterm stlist ()\n",
      "Entering state 5\n",
      "Stack now 0 1 3 5\n",
      "Reading a token\n",
      "Next token is token '}' ()\n",
      "Shifting token '}' ()\n",
      "Entering state 14\n",
      "Stack now 0 1 3 5 14\n",
      "Reducing stack by rule 1 (line 15):\n",
      "   $1 = token IDENT ()\n",
      "   $2 = token '{' ()\n",
      "   $3 = nterm stlist ()\n",
      "   $4 = token '}' ()\n",
      "#include <stdio.h>\n",
      "int main() {\n",
      "\tint v0;\n",
      "\tint v1;\n",
      "\tscanf(\"%d\", &v0);\n",
      "\twhile (1) {\n",
      "\t\tif (v0 >= 100) {\n",
      "\t\tbreak;\n",
      "\t}\n",
      "\tscanf(\"%d\", &v1);\n",
      "\tv0 = v0 + v1;\n",
      "\tprintf(\"%d\",v0);\n",
      "\tprintf(\"\\n\");\n",
      "\t}\n",
      "}\n"
     ]
    }
   ],
   "source": [
    "/* a.out */\n",
    "main {\n",
    "  read a;\n",
    "  while (true) {\n",
    "    if (a >= 100) {\n",
    "      break;\n",
    "    }\n",
    "    read b;\n",
    "    a = a + b;\n",
    "    println a;\n",
    "  }\n",
    "}"
   ]
  },
  {
   "cell_type": "markdown",
   "id": "79353459-eeab-45f4-ac6a-c8c0ba6e6e67",
   "metadata": {
    "deletable": false,
    "editable": false,
    "slideshow": {
     "slide_type": ""
    },
    "tags": []
   },
   "source": [
    "# 発展問題1 - コード生成（第3回の内容から）\n",
    "\n",
    "第3回で，C言語とx64アセンブリ言語に出力するコンパイラを作成しました．それを参考にして，他のプログラミング言語に出力するコンパイラを作成してください．どんなプログラミング言語に出力するかと，必要に応じて実行モデルについてどうしたか（翻訳するときにどう決めたか）をMarkdownにまとめて書いて，コードには適宜コメントを入れてください．\n",
    "\n",
    "- 自分の知っているどんな言語でもいいです．\n",
    "  - 言語処理系論で出てきた WebAssemblyについて自分で調べてみて出力できると，おもしろいかもしれない（その場合は呼び出すJavaScriptも書いてほしい）．"
   ]
  },
  {
   "cell_type": "markdown",
   "id": "e8d75736-98c1-4029-b547-0b90f9d6a481",
   "metadata": {
    "deletable": false,
    "editable": true,
    "slideshow": {
     "slide_type": ""
    },
    "tags": []
   },
   "source": [
    "どんな言語に出力したのか，ここに書く"
   ]
  },
  {
   "cell_type": "code",
   "execution_count": null,
   "id": "5db5390a-e5e4-41bc-9315-95096dae31e4",
   "metadata": {
    "deletable": false,
    "editable": true,
    "slideshow": {
     "slide_type": ""
    },
    "tags": []
   },
   "outputs": [],
   "source": [
    "/* lex f4.lex */"
   ]
  },
  {
   "cell_type": "code",
   "execution_count": null,
   "id": "2ea3e8b6-c9a9-481c-a8a8-7ac35e463cc3",
   "metadata": {
    "deletable": false,
    "editable": true,
    "slideshow": {
     "slide_type": ""
    },
    "tags": []
   },
   "outputs": [],
   "source": [
    "/* yacc f4.yacc */"
   ]
  },
  {
   "cell_type": "code",
   "execution_count": null,
   "id": "8cbad5be-962c-4992-b4dc-e919ea3792a8",
   "metadata": {
    "deletable": false,
    "editable": true,
    "slideshow": {
     "slide_type": ""
    },
    "tags": []
   },
   "outputs": [],
   "source": [
    "/* c f4.c */"
   ]
  },
  {
   "cell_type": "code",
   "execution_count": null,
   "id": "828f6818-c5b6-46c0-bd8f-dbb3d4b3cf79",
   "metadata": {
    "deletable": false,
    "editable": true,
    "slideshow": {
     "slide_type": ""
    },
    "tags": []
   },
   "outputs": [],
   "source": [
    "/* a.out */"
   ]
  },
  {
   "cell_type": "markdown",
   "id": "53485e03-87d4-4611-aa8a-e970e40ae4b1",
   "metadata": {
    "deletable": false,
    "editable": false,
    "slideshow": {
     "slide_type": ""
    },
    "tags": []
   },
   "source": [
    "# 発展問題2 - プログラミングではない用途（第3回の内容から）\n",
    "\n",
    "第3回で，簡単な英文解析プログラムを作成しました．同様にして，プログラミング言語ではない用途でLex・Yaccを使用したものを自由に作成して，以下にコードを載せてください．どんなプログラムかをMarkdownでまとめて書いて，コードには適宜コメントを入れてください．\n",
    "\n",
    "- 英文の例を単純に拡張するのでもよいです．\n",
    "- JSONやXMLのようなデータを読み込むプログラムでもよいです．\n",
    "- コマンドのオプションを読み込むときに使うプログラムでもよいです．\n",
    "  - たとえば，`ssh`だったら（`% ssh -l ユーザー名`）のようにコマンドを書くけれど，それを解釈するプログラム．間違っていたら`man`コマンドの結果のように使い方を表示すしてみるなど"
   ]
  },
  {
   "cell_type": "markdown",
   "id": "d7680722-bf95-4318-aaa5-2a01be1a1818",
   "metadata": {
    "deletable": false,
    "editable": true,
    "slideshow": {
     "slide_type": ""
    },
    "tags": []
   },
   "source": [
    "どんな機能を追加したのか，ここに書く"
   ]
  },
  {
   "cell_type": "code",
   "execution_count": null,
   "id": "c9ef18e1-d67d-44cf-81d5-8e09a1232c5f",
   "metadata": {
    "deletable": false,
    "editable": true,
    "slideshow": {
     "slide_type": ""
    },
    "tags": []
   },
   "outputs": [],
   "source": [
    "/* lex f5.lex */"
   ]
  },
  {
   "cell_type": "code",
   "execution_count": null,
   "id": "06219dc3-635f-4806-95b2-e7a4c294c8e1",
   "metadata": {
    "deletable": false,
    "editable": true,
    "slideshow": {
     "slide_type": ""
    },
    "tags": []
   },
   "outputs": [],
   "source": [
    "/* yacc f5.yacc */"
   ]
  },
  {
   "cell_type": "code",
   "execution_count": null,
   "id": "de6e564f-6c77-400f-b237-9df21c8becec",
   "metadata": {
    "deletable": false,
    "editable": true,
    "slideshow": {
     "slide_type": ""
    },
    "tags": []
   },
   "outputs": [],
   "source": [
    "/* c f5.c */"
   ]
  },
  {
   "cell_type": "code",
   "execution_count": null,
   "id": "13c91d56-d17f-429d-8de9-ec820c43de36",
   "metadata": {
    "deletable": false,
    "editable": true,
    "slideshow": {
     "slide_type": ""
    },
    "tags": []
   },
   "outputs": [],
   "source": [
    "/* a.out */"
   ]
  },
  {
   "cell_type": "markdown",
   "id": "e1a16b6e-5ed7-42cc-99ae-3def622a7641",
   "metadata": {
    "deletable": false,
    "editable": false,
    "slideshow": {
     "slide_type": ""
    },
    "tags": []
   },
   "source": [
    "# 発展問題3 - 最適化\n",
    "\n",
    "授業資料で作成したコンパイラは，抽象構文木を作成しただけでした．\n",
    "抽象構文木の構造をいじってやれば，コンパイラに最適化を実装できます．この課題では，自由に考えて（調べて）自分が作成したコンパイラになんらかの最適化手法を取り入れてください．\n",
    "\n",
    "- ここまでの問題のどのバージョンのコンパイラでもよいです．\n",
    "  - 最適化の効果が見やすいので，C言語にコード生成してくれるとありがたい． \n",
    "- たとえば，\n",
    "  - 別々の式になっていた足し算を1つにマージするとか（実際問題として実行速度が上がるわけではないが，抽象構文木の形を変える練習として）\n",
    "  - [SSA](https://ja.wikipedia.org/wiki/%E9%9D%99%E7%9A%84%E5%8D%98%E4%B8%80%E4%BB%A3%E5%85%A5) 形式に変換してみるとか\n",
    "  - ループ最適化とか"
   ]
  },
  {
   "cell_type": "code",
   "execution_count": null,
   "id": "5204e3eb-7a98-4acc-bf42-97b7e0689e6d",
   "metadata": {
    "deletable": false,
    "editable": true,
    "slideshow": {
     "slide_type": ""
    },
    "tags": []
   },
   "outputs": [],
   "source": [
    "/* lex f6.lex */"
   ]
  },
  {
   "cell_type": "code",
   "execution_count": null,
   "id": "59d5932e-64e2-4489-8b7e-f9298886f794",
   "metadata": {
    "deletable": false,
    "editable": true,
    "slideshow": {
     "slide_type": ""
    },
    "tags": []
   },
   "outputs": [],
   "source": [
    "/* yacc f6.yacc */"
   ]
  },
  {
   "cell_type": "code",
   "execution_count": null,
   "id": "0418fa85-ffb6-46d5-a3e7-9115b4f77aff",
   "metadata": {
    "deletable": false,
    "editable": true,
    "slideshow": {
     "slide_type": ""
    },
    "tags": []
   },
   "outputs": [],
   "source": [
    "/* c f6.c */"
   ]
  },
  {
   "cell_type": "code",
   "execution_count": null,
   "id": "86f5afea-6fd7-42b0-af07-94f71501893c",
   "metadata": {
    "deletable": false,
    "editable": true,
    "slideshow": {
     "slide_type": ""
    },
    "tags": []
   },
   "outputs": [],
   "source": [
    "/* a.out */"
   ]
  }
 ],
 "metadata": {
  "kernelspec": {
   "display_name": "lex yacc",
   "language": "lexyacc",
   "name": "lexyacc-kernel"
  },
  "language_info": {
   "mimetype": "text/plain",
   "name": "lex yacc"
  }
 },
 "nbformat": 4,
 "nbformat_minor": 5
}
